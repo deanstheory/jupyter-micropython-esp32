{
 "cells": [
  {
   "cell_type": "markdown",
   "metadata": {},
   "source": [
    "<img src=\"assets/jupyter-micropython-esp32.png\">\n"
   ]
  },
  {
   "cell_type": "markdown",
   "metadata": {},
   "source": [
    "***\n",
    "# MicroPython fun on €10 hardware\n",
    "\n",
    "\n",
    "[MicroPython](https://github.com/micropython/micropython) is an implementation of the Python 3 optimised to run on microcontrollers.\n",
    "- MicroPython is a full Python compiler and runtime that runs on the microcontroller hardware. \n",
    "- Can interact with the the REPL running on the hardware. \n",
    "- Includes a subset of core Python libraries and hardware specific libraries that vary for each hardware port.\n",
    "\n",
    "\n",
    "Some interesting opportunities for Python developers:\n",
    "1. Opportunity to try embedded development.\n",
    "2. If you are an embedded developers using C/C++ there is the opportunity to take advantage of Python’s ease of use and rich libraries.\n",
    "3. Beginner programmers have the opportunity to create projects that explore sensors, interaction with the physical world, and networking.\n",
    "\n",
    "MicroPython downloads and ESP32 installation instructions are available [here](https://micropython.org/download#esp32).\n"
   ]
  },
  {
   "cell_type": "markdown",
   "metadata": {},
   "source": [
    "***\n",
    "# Jupyter Notebook MicroPython kernel install\n",
    "\n",
    "We are going to be using the [Jupyter MicroPython Remote kernel](https://pypi.org/project/jupyter-micropython-remote/) to interact with a MicroPython board over its REPL interface. \n",
    "\n",
    "\n",
    "\n",
    "From the shell command to install the MicroPython kernel for Jupyter run:\n",
    "\n",
    "```\n",
    "pip install jupyter_micropython_remote\n",
    "```\n",
    "\n",
    "Next register the kernel with Jupyter:\n",
    "\n",
    "```\n",
    "python -m mpy_kernel.install\n",
    "```\n",
    "    \n",
    "And that should be it!!! Run Jupyter notebooks:\n",
    "\n",
    "```\n",
    "jupyter notebook \n",
    "```\n",
    "\n",
    "You should now have a **MicroPython Remote** option when creating a new Jupyter notebook.\n",
    "\n"
   ]
  },
  {
   "cell_type": "markdown",
   "metadata": {},
   "source": [
    "***\n",
    "# What does €10 get you?\n",
    "\n",
    "\n",
    "<img src=\"assets/esp32_5_10_15.png\">\n",
    "\n",
    "\n",
    "\n",
    "Quite a lot actually:\n",
    "- €5  ESP32 with 4MB flash, Wi-Fi & Bluetooth, lots of I/O.\n",
    "- €10 ESP32 with 16MB flash, 8MB PSRAM, Wi-Fi & Bluetooth, lots of I/O, lithium battery charging circuit, SD card slot.\n",
    "- €15 ESP32 with 4MB flash, Wi-Fi & Bluetooth, lots of I/O, lithium battery charging circuit, OLED display, LoRa wireless with km range.\n",
    "\n",
    "ESP32 developer boards typically consist of:\n",
    "- ESP32 System On Chip (SOC) as seen at top of the first two of these boards.\n",
    "- USB interface for power and primary communication during development as seen at the bottom of these boards.\n",
    "- GPIO and power pins exposes on two rows of pins either side of the board.\n",
    "- Various manufacturers provide additional features like battery charging, display, camera, LoRa wireless, GPS on their boards.\n",
    "\n",
    "\n",
    "<img src=\"assets/esp32-block-diagram.jpg\">\n",
    "\n",
    "\n",
    "\n",
    "The ESP32 SOC:\n",
    "- Dual core, clock frequency up to 240MHz, 512 KB internal RAM.\n",
    "- Modules come in different variants with additional external flash and PSRAM.\n",
    "- Runs 32 bit programs.\n",
    "- Wi-Fi and bluetooth built-in.\n",
    "- Up to 40 GPIO pins.\n",
    "- Ultra low power co-processor with access to GPIO during deepsleep.\n",
    "- Built in security and encrytion hardware.\n",
    "\n",
    "\n",
    "\n",
    "Check available documentation before buying. \n",
    "- Are board schematics available (usually based on an Espressif reference design)? \n",
    "- Are common parts used for display, LoRa chips, etc? There is better library support for common components.\n"
   ]
  },
  {
   "cell_type": "markdown",
   "metadata": {},
   "source": [
    "***\n",
    "# Establish a notebook connection to your microcontroller \n",
    "\n",
    "The first cell of your Jupyter Notebook should contain something like this:\n",
    "\n",
    "```\n",
    "%connect <device> --baudrate=115200 --user='micro' --password='python' --wait=0\n",
    "```\n",
    "\n",
    "You may need to reset the microcontroller with a soft reboot:\n",
    "\n",
    "```\n",
    "%reboot\n",
    "```\n",
    "\n",
    "**Note: Remember that you should only have one connection open on the serial port connected to the hardware.**\n",
    "\n"
   ]
  },
  {
   "cell_type": "code",
   "execution_count": 1,
   "metadata": {},
   "outputs": [
    {
     "name": "stdout",
     "output_type": "stream",
     "text": [
      "\u001b[34mConnected on COM4\n",
      "\u001b[0m"
     ]
    }
   ],
   "source": [
    "%connect COM4 --baudrate=115200"
   ]
  },
  {
   "cell_type": "code",
   "execution_count": 1,
   "metadata": {
    "code_folding": [],
    "scrolled": true
   },
   "outputs": [
    {
     "name": "stdout",
     "output_type": "stream",
     "text": [
      "Platform: esp32\r\n",
      "MicroPython Version: (name='micropython', version=(1, 11, 0))\r\n"
     ]
    }
   ],
   "source": [
    "# Lets look at some of the microcontroller system details\n",
    "\n",
    "import sys\n",
    "\n",
    "print(\"Platform: {}\".format(sys.platform))\n",
    "print(\"MicroPython Version: {}\".format(sys.implementation))\n"
   ]
  },
  {
   "cell_type": "code",
   "execution_count": null,
   "metadata": {},
   "outputs": [],
   "source": [
    "# List of magic functions.\n",
    "\n",
    "%lsmagic\n"
   ]
  },
  {
   "cell_type": "markdown",
   "metadata": {},
   "source": [
    "***\n",
    "# MicroPython modules\n",
    "\n",
    "Lets see what MicroPython libraries are available on the ESP32 board:\n",
    "\n",
    "- [MicroPython standard libraries and micro-libraries](https://docs.micropython.org/en/latest/library/index.html#python-standard-libraries-and-micro-libraries)\n",
    "\n",
    "\n"
   ]
  },
  {
   "cell_type": "code",
   "execution_count": 1,
   "metadata": {},
   "outputs": [
    {
     "name": "stdout",
     "output_type": "stream",
     "text": [
      "__main__          framebuf          socket            upip\n",
      "_boot             gc                ssl               upip_utarfile\n",
      "_onewire          hashlib           struct            upysh\n",
      "_thread           heapq             sys               urandom\n",
      "_webrepl          inisetup          time              ure\n",
      "apa106            io                ubinascii         urequests\n",
      "array             json              ucollections      uselect\n",
      "binascii          machine           ucryptolib        usocket\n",
      "btree             math              uctypes           ussl\n",
      "builtins          micropython       uerrno            ustruct\n",
      "cmath             neopixel          uhashlib          utime\n",
      "collections       network           uhashlib          utimeq\n",
      "dht               ntptime           uheapq            uwebsocket\n",
      "ds18x20           onewire           uio               uzlib\n",
      "errno             os                ujson             webrepl\n",
      "esp               random            umqtt/robust      webrepl_setup\n",
      "esp32             re                umqtt/simple      websocket_helper\n",
      "flashbdev         select            uos               zlib\n",
      "Plus any modules on the filesystem\n"
     ]
    }
   ],
   "source": [
    "# To get a list modules available for the ESP32 port.\n",
    "\n",
    "help('modules')"
   ]
  },
  {
   "cell_type": "code",
   "execution_count": 1,
   "metadata": {},
   "outputs": [
    {
     "name": "stdout",
     "output_type": "stream",
     "text": [
      "object <module 'umachine'> is of type module\n",
      "  __name__ -- umachine\n",
      "  mem8 -- <8-bit memory>\n",
      "  mem16 -- <16-bit memory>\n",
      "  mem32 -- <32-bit memory>\n",
      "  freq -- <function>\n",
      "  reset -- <function>\n",
      "  unique_id -- <function>\n",
      "  sleep -- <function>\n",
      "  lightsleep -- <function>\n",
      "  deepsleep -- <function>\n",
      "  idle -- <function>\n",
      "  disable_irq -- <function>\n",
      "  enable_irq -- <function>\n",
      "  time_pulse_us -- <function>\n",
      "  Timer -- <class 'Timer'>\n",
      "  WDT -- <class 'WDT'>\n",
      "  SDCard -- <class 'SDCard'>\n",
      "  SLEEP -- 2\n",
      "  DEEPSLEEP -- 4\n",
      "  Pin -- <class 'Pin'>\n",
      "  Signal -- <class 'Signal'>\n",
      "  TouchPad -- <class 'TouchPad'>\n",
      "  ADC -- <class 'ADC'>\n",
      "  DAC -- <class 'DAC'>\n",
      "  I2C -- <class 'I2C'>\n",
      "  PWM -- <class 'PWM'>\n",
      "  RTC -- <class 'RTC'>\n",
      "  SPI -- <class 'SoftSPI'>\n",
      "  UART -- <class 'UART'>\n",
      "  reset_cause -- <function>\n",
      "  HARD_RESET -- 2\n",
      "  PWRON_RESET -- 1\n",
      "  WDT_RESET -- 3\n",
      "  DEEPSLEEP_RESET -- 4\n",
      "  SOFT_RESET -- 5\n",
      "  wake_reason -- <function>\n",
      "  PIN_WAKE -- 2\n",
      "  EXT0_WAKE -- 2\n",
      "  EXT1_WAKE -- 3\n",
      "  TIMER_WAKE -- 4\n",
      "  TOUCHPAD_WAKE -- 5\n",
      "  ULP_WAKE -- 6\n"
     ]
    }
   ],
   "source": [
    "# The machine module contains functions related to the hardware on the board. \n",
    "# Including: I2C, SPI, UART interface, etc\n",
    "\n",
    "import machine\n",
    "help(machine)"
   ]
  },
  {
   "cell_type": "markdown",
   "metadata": {},
   "source": [
    "***\n",
    "# Controlling machine hardware\n",
    "\n",
    "Lets work through some examples of controlling hardware with MicroPython:\n",
    "1. I/O pins.\n",
    "2. Pulse Width Modulation (PWM).\n",
    "3. Timers.\n",
    "4. Interrupts.\n",
    "5. Wifi.\n",
    "6. upip package manager (if time permits).\n",
    "7. Deepsleep (if time permits).\n",
    "8. Jupyter %local cell interaction with remote hardware.\n",
    "9. Upload program to hardware.\n"
   ]
  },
  {
   "cell_type": "markdown",
   "metadata": {},
   "source": [
    "\n",
    "<img src=\"assets/esp32_pinout.png\">\n",
    "\n",
    "\n",
    "Peripheral Input/Output include:\n",
    "- 2 × I²C (Inter-Integrated Circuit).\n",
    "- 3 x UART (universal asynchronous receiver/transmitter).\n",
    "- CAN 2.0 (Controller Area Network).\n",
    "- 4 × SPI (Serial Peripheral Interface).\n",
    "- 2 × I²S (Integrated Inter-IC Sound).\n",
    "- PWM (pulse width modulation) up to 16 channels. Useful for LED or motor control.\n",
    "- 10 x Capacitive touch sensors.\n",
    "- 12-bit ADCs (analog-to-digital converter) up to 18 channels.\n",
    "- 2 × 8 bit DACs (digital-to-analog converter).\n",
    "- Hall sensor.\n",
    "- Internal temperature sensor.\n",
    "\n"
   ]
  },
  {
   "cell_type": "markdown",
   "metadata": {},
   "source": [
    "***\n",
    "## Blink the 'Hello World' for microcontroller\n",
    "\n",
    "Lets set a [GPIO pin](https://docs.micropython.org/en/latest/library/machine.Pin.html) as an output and use it to drive an LED. The ESP32 board I'm using has an onboard LED wired to GPIO pin 27.\n"
   ]
  },
  {
   "cell_type": "code",
   "execution_count": null,
   "metadata": {
    "code_folding": []
   },
   "outputs": [],
   "source": [
    "# Set GPIO pin as output and toggle state.\n",
    "\n",
    "from machine import Pin\n",
    "import time\n",
    "\n",
    "# The Geekworm board has two onboard LEDs and a user button:\n",
    "# LEDs: Pin 0, Pin 27\n",
    "# Button: Pin 0\n",
    "\n",
    "p27 = Pin(27, Pin.OUT)\n",
    "p27.off()\n",
    "    \n",
    "for _ in range(10):\n",
    "    p27.value(not p27.value())\n",
    "    time.sleep_ms(1000)\n",
    "    print('Blink LED ....')\n",
    "    \n"
   ]
  },
  {
   "cell_type": "markdown",
   "metadata": {},
   "source": [
    "***\n",
    "## Pulse Width Modulation (PWM)\n",
    "\n",
    "PWM is typically used to control the brightness of a LED or to control motor speed.\n",
    "\n",
    "To use PWM first create a Pin object and then specify the pulse frequency and duty cycle.\n",
    "- ESP32 can generate PWM on most I/O pins.\n",
    "- Frequency is between 1Hz and 5kHz (?).\n",
    "- Duty cycle is between 0 (all off) and 1023 (all on), with 512 being 50% duty.\n",
    "\n"
   ]
  },
  {
   "cell_type": "code",
   "execution_count": 1,
   "metadata": {},
   "outputs": [
    {
     "name": "stdout",
     "output_type": "stream",
     "text": [
      "Frequency: 1 Hz\r\n",
      "Duty Cycle: 50.0%\r\n"
     ]
    }
   ],
   "source": [
    "# Demo: Controller LED with PWM.\n",
    "\n",
    "from machine import Pin, PWM\n",
    "\n",
    "led_pwm = PWM(Pin(27), freq=1, duty=512)\n",
    "\n",
    "print('Frequency: {} Hz'.format(led_pwm.freq()))\n",
    "print('Duty Cycle: {:.1%}'.format(led_pwm.duty()/1024))"
   ]
  },
  {
   "cell_type": "code",
   "execution_count": 1,
   "metadata": {},
   "outputs": [],
   "source": [
    "# Deactivate PWM\n",
    "\n",
    "led_pwm.deinit()"
   ]
  },
  {
   "cell_type": "markdown",
   "metadata": {},
   "source": [
    "***\n",
    "## Hardware Timer\n",
    "\n",
    "To use a [hardware timer](https://docs.micropython.org/en/latest/library/machine.Timer.html) select a timer id, the trigger mode, and specify a callback function.\n",
    "- The ESP32 has 4 hardware timers. Can also specify a software timer by using id = -1\n",
    "- Timer period in ms.\n",
    "- Timer mode:\n",
    " - Timer.ONE_SHOT - The timer runs once until the configured period of the channel expires.\n",
    " - Timer.PERIODIC - The timer runs periodically at the configured frequency of the channel.\n",
    "- Callback function is called when triggered.\n",
    "\n"
   ]
  },
  {
   "cell_type": "code",
   "execution_count": 1,
   "metadata": {},
   "outputs": [],
   "source": [
    "# Control a LED with a Timer.\n",
    "\n",
    "from machine import Pin, Timer\n",
    "\n",
    "p27 = Pin(27, Pin.OUT)\n",
    "\n",
    "def flash_led(timer):\n",
    "    p27.value(not p27.value())\n",
    "    \n",
    "# Use hardware timer 0\n",
    "flash_timer = Timer(0)\n",
    "flash_timer.init(period=1000, mode=Timer.PERIODIC, callback=flash_led)\n"
   ]
  },
  {
   "cell_type": "code",
   "execution_count": 1,
   "metadata": {},
   "outputs": [],
   "source": [
    "# Disable timer.\n",
    "\n",
    "flash_timer.deinit()"
   ]
  },
  {
   "cell_type": "markdown",
   "metadata": {},
   "source": [
    "***\n",
    "## Hardware Interrupt\n",
    "\n",
    "A [hardware interrupt](https://docs.micropython.org/en/latest/library/machine.Pin.html) occurs in response to an external event, eg. a GPIO Interrupt (when a key is pressed).\n",
    "\n",
    "- You can use all GPIOs as interrupts, except GPIO 6 to GPIO 11 (reserved for external flash memory interface).\n",
    "- Set a callback function to be executed on the trigger. Callback functions should be as short and simple as possible.\n",
    "- Interrupts can be triggers on rising/falling edge or pin level.\n",
    "- Option to specify the power mode in which to *wake* up the system from sleep. It can be:\n",
    " - machine.IDLE\n",
    " - machine.SLEEP\n",
    " - machine.DEEPSLEEP\n"
   ]
  },
  {
   "cell_type": "code",
   "execution_count": 1,
   "metadata": {},
   "outputs": [],
   "source": [
    "# Trigger a hardware interrupt from a button press and toggle a LED.\n",
    "\n",
    "from machine import Pin\n",
    "\n",
    "# Geekworm board has two onboard LEDs and a user button:\n",
    "# LEDs: Pin 0, Pin 27\n",
    "# Button: Pin 0\n",
    "\n",
    "p27 = Pin(27, Pin.OUT)\n",
    "button0 = Pin(0, Pin.IN)\n",
    "\n",
    "def button_isr(pin):\n",
    "    p27.value(not p27.value())\n",
    "\n",
    "button0.irq(trigger=Pin.IRQ_FALLING, handler=button_isr)\n"
   ]
  },
  {
   "cell_type": "code",
   "execution_count": 1,
   "metadata": {},
   "outputs": [],
   "source": [
    "# Disable IRQ\n",
    "\n",
    "button0.irq(trigger=0)"
   ]
  },
  {
   "cell_type": "markdown",
   "metadata": {},
   "source": [
    "***\n",
    "# Wireless connectivity\n",
    "\n",
    "The ESP32 offers a cheap solution for IoT projects with Bluetooth and WiFi. Wireless protocols that are supported:\n",
    "- Wi-Fi: 802.11 b/g/n.\n",
    "- Bluetooth: v4.2 and BLE.\n",
    "\n",
    "\n",
    "Can set up an ESP32 as a WiFi Station (**network.STA_IF**) or Access Point (**network.AP_IF**).\n"
   ]
  },
  {
   "cell_type": "code",
   "execution_count": null,
   "metadata": {},
   "outputs": [],
   "source": [
    "# Scan for available WiFi networks.\n",
    "\n",
    "import network\n",
    "\n",
    "wlan = network.WLAN(network.STA_IF)\n",
    "wlan.active(True)\n",
    "\n",
    "nets = wlan.scan()\n",
    "for n in nets:\n",
    "    # WiFi: (ssid, bssid, channel, RSSI, authmode, hidden). \n",
    "    print(\"ssid: {}, bssid: {}, channel: {}, RSSI: {}, authmode: {}, hidden: {}\".format(n[0],n[1],n[2],n[3],n[4],n[5]))\n",
    "\n",
    "wlan.disconnect()"
   ]
  },
  {
   "cell_type": "markdown",
   "metadata": {},
   "source": [
    "***\n",
    "## Accessing PC filesystem from the microcontroller\n",
    "\n",
    "Your local PC's working Jupyter directory is mounted at directory **/remote/** on the remote micropython hardware. This allows you to view, open, read, write and copy files to and from the microcontroller to your PC.\n"
   ]
  },
  {
   "cell_type": "code",
   "execution_count": 1,
   "metadata": {},
   "outputs": [
    {
     "name": "stdout",
     "output_type": "stream",
     "text": [
      "['remote', 'boot.py', 'main.py']\r\n"
     ]
    }
   ],
   "source": [
    "# Load WiFi credentials from config file stored in the PC Jupyter working directory.\n",
    "\n",
    "import json, os\n",
    "\n",
    "\n",
    "print(os.listdir('/'))\n",
    "\n",
    "try:\n",
    "    with open('/remote/assets/test-config.json', 'r') as f:\n",
    "        data = json.load(f)\n",
    "        ssid = data['ssid']\n",
    "        wifi_pwd = data['wifi_pwd']\n",
    "        \n",
    "except FileNotFoundError:\n",
    "    ssid = \"your_ssid\"\n",
    "    wifi_pwd = \"your_pwd\"\n",
    "    \n",
    "    \n",
    "#print('SSID: {}'.format(ssid))\n",
    "#print('WiFi pwd: {}'.format(wifi_pwd))\n"
   ]
  },
  {
   "cell_type": "code",
   "execution_count": 1,
   "metadata": {},
   "outputs": [
    {
     "name": "stdout",
     "output_type": "stream",
     "text": [
      "connecting to network...\n",
      "Network config: ('192.168.1.82', '255.255.255.0', '192.168.1.254', '192.168.1.254')\n"
     ]
    }
   ],
   "source": [
    "# Connect ESP32 to local WiFi network using credentials read from a JSON configuration file above.\n",
    "\n",
    "import network\n",
    "\n",
    "# Get WiFi credentials in cell above\n",
    "\n",
    "wlan = network.WLAN(network.STA_IF)\n",
    "\n",
    "if not wlan.isconnected():\n",
    "    print('connecting to network...')\n",
    "    wlan.active(True)\n",
    "    wlan.connect(ssid, wifi_pwd)\n",
    "    while not wlan.isconnected():\n",
    "        pass\n",
    "\n",
    "print('Network config:', wlan.ifconfig())\n",
    "\n",
    "#wlan.disconnect()"
   ]
  },
  {
   "cell_type": "markdown",
   "metadata": {},
   "source": [
    "***\n",
    "# Installing packages using the upip package manager\n",
    "\n",
    "\n",
    "- [MicroPython extra packages](https://pypi.org/search/?q=micropython)\n",
    " - [HX711 for load cell wheatstone bridge](https://pypi.org/project/micropython-hx711/)\n",
    " \n",
    "**Remember limited memory available on the device**\n",
    "<br />"
   ]
  },
  {
   "cell_type": "code",
   "execution_count": null,
   "metadata": {},
   "outputs": [],
   "source": [
    "# Install package with upip\n",
    "\n",
    "import upip\n",
    "\n",
    "#upip.install('micropython-hx711')\n",
    "upip.install('notes-pico')\n"
   ]
  },
  {
   "cell_type": "code",
   "execution_count": null,
   "metadata": {},
   "outputs": [],
   "source": [
    "help('modules')"
   ]
  },
  {
   "cell_type": "markdown",
   "metadata": {},
   "source": [
    "***\n",
    "# ESP32 deep sleep\n",
    "\n",
    "The microcontroller can enter a sleep state which stops execution in an attempt to enter a low power state.\n",
    "- **machine.lightsleep**: A lightsleep has full RAM and state retention. Upon wake execution is resumed from the point where the sleep was requested, with all subsystems operational.\n",
    "- **machine.deepsleep**: A deepsleep may not retain RAM or any other state of the system (date can be stored in the RTC module memory). Upon wake execution is resumed from the main script, similar to a hard or power-on reset.\n",
    "\n",
    "ESP32 can wake up after sleeping for a specified time. If no time interval is specified sleep can last indefinitely or until a **wake** interrupt is received from one of the following sources:\n",
    "- Timer.\n",
    "- External wake up when a change in the state of a pin occurs.\n",
    "- Touch pins.\n"
   ]
  },
  {
   "cell_type": "code",
   "execution_count": null,
   "metadata": {},
   "outputs": [
    {
     "name": "stdout",
     "output_type": "stream",
     "text": [
      "I'm awake. Going to sleep in 5 seconds...\n",
      "I'm awake. Going to sleep in 4 seconds...\n",
      "I'm awake. Going to sleep in 3 seconds...\n",
      "I'm awake. Going to sleep in 2 seconds...\n",
      "I'm awake. Going to sleep in 1 seconds...\n",
      "Going to sleep now\n",
      "ets Jun  8 2016 00:22:57\n",
      "\n",
      "rst:0x5 (DEEPSLEEP_RESET),boot:0x13 (SPI_FAST_FLASH_BOOT)\n",
      "configsip: 0, SPIWP:0xee\n",
      "clk_drv:0x00,q_drv:0x00,d_drv:0x00,cs0_drv:0x00,hd_drv:0x00,wp_drv:0x00\n",
      "mode:DIO, clock div:2\n",
      "load:0x3fff0018,len:4\n",
      "load:0x3fff001c,len:4928\n",
      "ho 0 tail 12 room 4\n",
      "load:0x40078000,len:9404\n",
      "load:0x40080400,len:6228\n",
      "entry 0x400806ec\n",
      "\u001b[0;32mI (440) cpu_start: Pro cpu up.\u001b[0m\n",
      "\u001b[0;32mI (440) cpu_start: Application information:\u001b[0m\n",
      "\u001b[0;32mI (440) cpu_start: Compile time:     Jul 16 2019 12:34:17\u001b[0m\n",
      "\u001b[0;32mI (443) cpu_start: ELF file SHA256:  0000000000000000...\u001b[0m\n",
      "\u001b[0;32mI (449) cpu_start: ESP-IDF:          v3.3-beta1-694-g6b3da6b18\u001b[0m\n",
      "\u001b[0;32mI (456) cpu_start: Starting app cpu, entry point is 0x40082b54\u001b[0m\n",
      "\u001b[0;32mI (0) cpu_start: App cpu up.\u001b[0m\n",
      "\u001b[0;32mI (466) heap_init: Initializing. RAM available for dynamic allocation:\u001b[0m\n",
      "\u001b[0;32mI (473) heap_init: At 3FFAE6E0 len 00001920 (6 KiB): DRAM\u001b[0m\n",
      "\u001b[0;32mI (479) heap_init: At 3FFB9CA0 len 00026360 (152 KiB): DRAM\u001b[0m\n",
      "\u001b[0;32mI (485) heap_init: At 3FFE0440 len 00003AE0 (14 KiB): D/IRAM\u001b[0m\n",
      "\u001b[0;32mI (492) heap_init: At 3FFE4350 len 0001BCB0 (111 KiB): D/IRAM\u001b[0m\n",
      "\u001b[0;32mI (498) heap_init: At 400921FC len 0000DE04 (55 KiB): IRAM\u001b[0m\n",
      "\u001b[0;32mI (504) cpu_start: Pro cpu start user code\u001b[0m\n",
      "\u001b[0;32mI (75) cpu_start: Starting scheduler on PRO CPU.\u001b[0m\n",
      "\u001b[0;32mI (0) cpu_start: Starting scheduler on APP CPU.\u001b[0m\n",
      "MicroPython v1.11-153-gbaea43bba on 2019-07-16; ESP32 module with ESP32\n",
      "Type \"help()\" for more information.\n",
      ">>> "
     ]
    }
   ],
   "source": [
    "import machine\n",
    "import esp32\n",
    "from machine import Pin\n",
    "from time import sleep\n",
    "\n",
    "wake1 = Pin(0, mode = Pin.IN)\n",
    "wake2 = Pin(34, mode = Pin.IN)\n",
    "\n",
    "esp32.wake_on_ext1(pins = (wake1, wake2), level = esp32.WAKEUP_ALL_LOW)\n",
    "\n",
    "for i in reversed(range(5)):\n",
    "    print('I\\'m awake. Going to sleep in {} seconds...'.format(i+1))\n",
    "    sleep(1)\n",
    "\n",
    "print('Going to sleep now')\n",
    "\n",
    "\n",
    "# DEMO 1:\n",
    "# Deep sleep until external wake up pin pressed\n",
    "machine.deepsleep()\n",
    "\n",
    "\n",
    "# DEMO 2:\n",
    "# Light sleep for 5 seconds then wake and continue execution\n",
    "#machine.lightsleep(5000)\n",
    "#cycle(2)\n",
    "\n",
    "\n",
    "machine.wake_reason()\n",
    "  # returns tuple with reset & wakeup reasons\n",
    "machine.wake_description()\n",
    "  # returns tuple with strings describing reset & wakeup reasons"
   ]
  },
  {
   "cell_type": "code",
   "execution_count": 1,
   "metadata": {},
   "outputs": [
    {
     "name": "stdout",
     "output_type": "stream",
     "text": [
      "\u001b[34mConnected on COM4\n",
      "\u001b[0m"
     ]
    }
   ],
   "source": [
    "# Try to reconnect after waking from deepsleep\n",
    "\n",
    "%connect COM4 --baudrate=115200"
   ]
  },
  {
   "cell_type": "markdown",
   "metadata": {},
   "source": [
    "***\n",
    "# NeoPixel\n",
    "\n",
    "[Neopixel](https://docs.micropython.org/en/latest/esp8266/tutorial/neopixel.html), also known as WS2812 LEDs, are individually addressable RGB LED strips \n",
    "\n",
    "<img src=\"assets/neopixel.png\">\n"
   ]
  },
  {
   "cell_type": "code",
   "execution_count": 1,
   "metadata": {},
   "outputs": [],
   "source": [
    "# Configure a NeoPixel strip of 24 LEDs controlled by pin 27.\n",
    "\n",
    "from machine import Pin\n",
    "import neopixel, time\n",
    "\n",
    "n = 24    # Neopixel led count\n",
    "led_pin = 27\n",
    "    \n",
    "np = neopixel.NeoPixel(Pin(led_pin, Pin.OUT), n)\n",
    "\n",
    "\n",
    "def cycle(count):\n",
    "    for i in range(count * n):\n",
    "        for j in range(n):\n",
    "            np[j] = (0, 0, 0)\n",
    "        np[i % n] = (0, 64, 0)\n",
    "        np.write()\n",
    "        time.sleep_ms(250)\n",
    "\n",
    "\n",
    "# Cycle NeoPixels for 2 loops\n",
    "cycle(2)\n"
   ]
  },
  {
   "cell_type": "markdown",
   "metadata": {},
   "source": [
    "***\n",
    "# %local cell execution\n",
    "\n",
    "\n",
    "Individual cells can also be run on the local PC instead of the remote kernel by starting a cell with **%local**\n",
    "\n",
    "In %local cells, a special global function **remote()** is available which will pass a single string argument to the micropython board to be run.\n",
    "\n",
    "This can be useful to work directly with local files, use [Jupyter Widgets](https://ipywidgets.readthedocs.io/en/stable/examples/Widget%20List.html), etc. \n",
    "\n",
    "\n"
   ]
  },
  {
   "cell_type": "code",
   "execution_count": 1,
   "metadata": {},
   "outputs": [],
   "source": [
    "# MicroPython cell executed on remote hardware\n",
    "\n",
    "from machine import Pin\n",
    "import neopixel\n",
    "\n",
    "n = 24    # Neopixel led count\n",
    "led_pin = 27\n",
    "    \n",
    "np = neopixel.NeoPixel(Pin(led_pin, Pin.OUT), n)\n",
    "\n",
    "def set_colour(r, g, b):\n",
    "    for i in range(n):\n",
    "        np[i] = (r, g, b)\n",
    "    np.write()\n",
    "\n",
    "# Set default LED level\n",
    "set_colour(0x00, 0x00, 0x00)"
   ]
  },
  {
   "cell_type": "code",
   "execution_count": 1,
   "metadata": {},
   "outputs": [
    {
     "data": {
      "application/vnd.jupyter.widget-view+json": {
       "model_id": "a50cc1ffa1dd4e8c9622793059dc4128",
       "version_major": 2,
       "version_minor": 0
      },
      "text/plain": [
       "interactive(children=(ColorPicker(value='#000000', description='LED Colour'), Output()), _dom_classes=('widget…"
      ]
     },
     "metadata": {},
     "output_type": "display_data"
    },
    {
     "data": {
      "text/plain": [
       "<function __main__.set_led(led_colour)>"
      ]
     },
     "execution_count": 1,
     "metadata": {},
     "output_type": "execute_result"
    }
   ],
   "source": [
    "# Run a colour picker locally\n",
    "\n",
    "%local\n",
    "\n",
    "from ipywidgets import interact, ColorPicker\n",
    "\n",
    "def set_led(led_colour):\n",
    "    r = int(led_colour[1:3], 16)\n",
    "    g = int(led_colour[3:5], 16)\n",
    "    b = int(led_colour[5:7], 16)\n",
    "\n",
    "    remote(f\"set_colour({r}, {g}, {b})\")\n",
    "\n",
    "    print(\"R:{} G:{} B:{}\".format(r, g, b))\n",
    "\n",
    "\n",
    "pick_colour = ColorPicker(description='LED Colour', value='#000000')\n",
    "interact(set_led, led_colour=pick_colour)\n",
    "\n"
   ]
  },
  {
   "cell_type": "markdown",
   "metadata": {},
   "source": [
    "***\n",
    "# Uploading your Python script to the board\n",
    "\n",
    "[Adafruit ampy tool](https://learn.adafruit.com/micropython-basics-load-files-and-run-code/install-ampy)\n",
    "\n",
    "\n",
    "The MicroPython board filesystem root contains two important files:\n",
    "1. **/boot.py** is run when the board is powered on or reset. Generally it is not edited and should only be used to setup board configuration.\n",
    "2. **/main.py** is an optional file and is run after boot.py. This file can be used to start your application script after power on. \n",
    "\n",
    "You will need to stop Jupyter Notebook remote MicroPython kernel running before using ampy. You can't have two applications accessing the ESP32 serial port at the same time.\n",
    "\n",
    "```\n",
    "ampy -p COM4 put blink.py /main.py\n",
    "```\n",
    "\n"
   ]
  },
  {
   "cell_type": "code",
   "execution_count": 2,
   "metadata": {},
   "outputs": [
    {
     "name": "stdout",
     "output_type": "stream",
     "text": [
      "object <module 'uos'> is of type module\r\n",
      "  __name__ -- uos\r\n",
      "  uname -- <function>\r\n",
      "  urandom -- <function>\r\n",
      "  dupterm -- <function>\r\n",
      "  dupterm_notify -- <function>\r\n",
      "  ilistdir -- <function>\r\n",
      "  listdir -- <function>\r\n",
      "  mkdir -- <function>\r\n",
      "  rmdir -- <function>\r\n",
      "  chdir -- <function>\r\n",
      "  getcwd -- <function>\r\n",
      "  remove -- <function>\r\n",
      "  rename -- <function>\r\n",
      "  stat -- <function>\r\n",
      "  statvfs -- <function>\r\n",
      "  mount -- <function>\r\n",
      "  umount -- <function>\r\n",
      "  VfsFat -- <class 'VfsFat'>\r\n"
     ]
    }
   ],
   "source": [
    "# The os module contains functions for filesystem access.\n",
    "\n",
    "import os\n",
    "\n",
    "help(os)"
   ]
  },
  {
   "cell_type": "code",
   "execution_count": 2,
   "metadata": {},
   "outputs": [
    {
     "name": "stdout",
     "output_type": "stream",
     "text": [
      "['remote', 'boot.py', 'main.py']\r\n"
     ]
    }
   ],
   "source": [
    "import os\n",
    "\n",
    "print(os.listdir('/'))\n",
    "\n"
   ]
  }
 ],
 "metadata": {
  "kernelspec": {
   "display_name": "MicroPython Remote",
   "language": "micropython",
   "name": "micropython"
  },
  "language_info": {
   "codemirror_mode": "python",
   "file_extension": ".py",
   "mimetype": "text/python",
   "name": "micropython"
  },
  "toc": {
   "base_numbering": 1,
   "nav_menu": {},
   "number_sections": true,
   "sideBar": true,
   "skip_h1_title": false,
   "title_cell": "Table of Contents",
   "title_sidebar": "Contents",
   "toc_cell": false,
   "toc_position": {
    "height": "612px",
    "left": "405px",
    "top": "251.8px",
    "width": "307.2px"
   },
   "toc_section_display": true,
   "toc_window_display": true
  }
 },
 "nbformat": 4,
 "nbformat_minor": 2
}
